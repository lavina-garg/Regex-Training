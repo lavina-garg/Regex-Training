{
 "cells": [
  {
   "cell_type": "markdown",
   "id": "67488e72",
   "metadata": {},
   "source": [
    "# 1) Given a list of integers, write a function to return the sum of all prime numbers in list."
   ]
  },
  {
   "cell_type": "code",
   "execution_count": 20,
   "id": "6dec8adf",
   "metadata": {},
   "outputs": [
    {
     "name": "stdout",
     "output_type": "stream",
     "text": [
      "[3, 13, 17, 21, 29]\n",
      "83\n"
     ]
    }
   ],
   "source": [
    "def isPrime(n):\n",
    "    if (n<2):\n",
    "        return False\n",
    "    for i in range (2,n):\n",
    "        if (n%i==0):\n",
    "            return False\n",
    "            break\n",
    "        return True\n",
    "    \n",
    "li = []\n",
    "a = [3,8,13,17,21,29]\n",
    "for x in a:\n",
    "    if isPrime(x):\n",
    "        li.append(x)\n",
    "\n",
    "print(li)\n",
    "\n",
    "total = 0\n",
    "for j in range(len(li)):\n",
    "    total += li[j]\n",
    "    \n",
    "print(total)"
   ]
  },
  {
   "cell_type": "markdown",
   "id": "5ff0f0d5",
   "metadata": {},
   "source": [
    "# 2) Given a list of integers, write a function to check whether the list is strictly increasing or not."
   ]
  },
  {
   "cell_type": "code",
   "execution_count": 21,
   "id": "b36003fc",
   "metadata": {},
   "outputs": [
    {
     "name": "stdout",
     "output_type": "stream",
     "text": [
      "4\n",
      "16\n",
      "36\n",
      "13\n",
      "18\n",
      "No, It's not strictly increasing!\n"
     ]
    }
   ],
   "source": [
    "def strictlyinc(list,n):\n",
    "    count = 0\n",
    "    for i in range(0,n-1):\n",
    "        if(l[i]>=l[i+1]):\n",
    "            count+=1\n",
    "    if(count>=1):\n",
    "        print(\"No, It's not strictly increasing!\")\n",
    "    else:\n",
    "        print(\"Yes, It is strictly increasing!\")\n",
    "            \n",
    "p=int(input())\n",
    "l = [[input()] for _ in range(p)]\n",
    "n = len(l)\n",
    "strictlyinc(l,n)"
   ]
  },
  {
   "cell_type": "markdown",
   "id": "9cce37d6",
   "metadata": {},
   "source": [
    "# 3) Write a function to check whether a given list is expanding or not (the difference between adjacent elements should keep on increasing)."
   ]
  },
  {
   "cell_type": "code",
   "execution_count": 22,
   "id": "b03f5ae5",
   "metadata": {},
   "outputs": [
    {
     "name": "stdout",
     "output_type": "stream",
     "text": [
      "Yes\n"
     ]
    }
   ],
   "source": [
    "def expand(list,n):\n",
    "    count = 0\n",
    "    for i in range(0,n-3):\n",
    "        if((list[i+1]-list[i]) > (list[i+2]-list[i+1])):\n",
    "            count+=1\n",
    "    if(count>=1):\n",
    "        print(\"No\")\n",
    "    else:\n",
    "        print(\"Yes\")\n",
    "        \n",
    "list = [3,5,8,12,17,24,34]\n",
    "n = len(list)\n",
    "expand(list,n)"
   ]
  },
  {
   "cell_type": "markdown",
   "id": "3b0e23f0",
   "metadata": {},
   "source": [
    "# 4) Write a function to calculate all premutations of a given string. (Without using itertools)\n"
   ]
  },
  {
   "cell_type": "code",
   "execution_count": 23,
   "id": "4917208e",
   "metadata": {},
   "outputs": [
    {
     "name": "stdout",
     "output_type": "stream",
     "text": [
      "ahdr\n",
      "['ahdr', 'hadr', 'hdar', 'hdra', 'adhr', 'dahr', 'dhar', 'dhra', 'adrh', 'darh', 'drah', 'drha', 'ahrd', 'hard', 'hrad', 'hrda', 'arhd', 'rahd', 'rhad', 'rhda', 'ardh', 'radh', 'rdah', 'rdha']\n"
     ]
    }
   ],
   "source": [
    "def permutation(str):\n",
    "    if len(str)==1:\n",
    "        return [str]\n",
    "    perms = permutation(str[1:])\n",
    "    char = str[0]\n",
    "    result = []\n",
    "    for perm in perms:\n",
    "        for i in range(len(perm)+1):\n",
    "            result.append(perm[:i] + char + perm[i:])\n",
    "    return result\n",
    "\n",
    "s= str(input())\n",
    "print(permutation(s))"
   ]
  },
  {
   "cell_type": "markdown",
   "id": "2cd94325",
   "metadata": {},
   "source": []
  }
 ],
 "metadata": {
  "kernelspec": {
   "display_name": "Python 3",
   "language": "python",
   "name": "python3"
  },
  "language_info": {
   "codemirror_mode": {
    "name": "ipython",
    "version": 3
   },
   "file_extension": ".py",
   "mimetype": "text/x-python",
   "name": "python",
   "nbconvert_exporter": "python",
   "pygments_lexer": "ipython3",
   "version": "3.8.8"
  }
 },
 "nbformat": 4,
 "nbformat_minor": 5
}
