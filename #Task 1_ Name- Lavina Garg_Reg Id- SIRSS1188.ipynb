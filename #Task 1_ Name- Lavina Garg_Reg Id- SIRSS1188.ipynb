{
 "cells": [
  {
   "cell_type": "markdown",
   "id": "14137274",
   "metadata": {},
   "source": [
    "# 1) Pattern 1:"
   ]
  },
  {
   "cell_type": "raw",
   "id": "e960a030",
   "metadata": {},
   "source": [
    "5 5 5 5 5\n",
    "5 5 5 5\n",
    "5 5 5 \n",
    "5 5 \n",
    "5"
   ]
  },
  {
   "cell_type": "code",
   "execution_count": 4,
   "id": "f2819fed",
   "metadata": {},
   "outputs": [
    {
     "name": "stdout",
     "output_type": "stream",
     "text": [
      "enter number of rows: 6\n",
      "5 5 5 5 5 \n",
      "5 5 5 5 \n",
      "5 5 5 \n",
      "5 5 \n",
      "5 \n",
      "\n"
     ]
    }
   ],
   "source": [
    "n = int(input(\"enter number of rows: \"))\n",
    "for i in range(1,n+1):\n",
    "    for j in range(1,(n+1)-i):\n",
    "        print(\"5\",end=\" \")\n",
    "    print()"
   ]
  },
  {
   "cell_type": "markdown",
   "id": "1a49a7e2",
   "metadata": {},
   "source": [
    "# 2) Pattern 2:"
   ]
  },
  {
   "cell_type": "raw",
   "id": "1178072c",
   "metadata": {},
   "source": [
    "0 1 2 3 4 5 \n",
    "0 1 2 3 4\n",
    "0 1 2 3\n",
    "0 1 2 \n",
    "0 1"
   ]
  },
  {
   "cell_type": "code",
   "execution_count": 5,
   "id": "21bd427d",
   "metadata": {},
   "outputs": [
    {
     "name": "stdout",
     "output_type": "stream",
     "text": [
      "Enter number of rows: 6\n",
      "0 1 2 3 4 5 6 \n",
      "0 1 2 3 4 5 \n",
      "0 1 2 3 4 \n",
      "0 1 2 3 \n",
      "0 1 2 \n",
      "0 1 \n"
     ]
    }
   ],
   "source": [
    "n = int(input(\"Enter number of rows: \"))\n",
    "for i in range(1,n+1):\n",
    "    k=2\n",
    "    print(0,1,end=\" \")\n",
    "    for j in range(1,(n+1)-i):\n",
    "        print(k,end=\" \")\n",
    "        k+=1\n",
    "    print()"
   ]
  },
  {
   "cell_type": "markdown",
   "id": "ebf43a98",
   "metadata": {},
   "source": [
    "# 3) Pattern 3:"
   ]
  },
  {
   "cell_type": "raw",
   "id": "f034c54a",
   "metadata": {},
   "source": [
    "1\n",
    "3 3\n",
    "5 5 5\n",
    "7 7 7 7\n",
    "9 9 9 9 9"
   ]
  },
  {
   "cell_type": "code",
   "execution_count": 7,
   "id": "c9311c80",
   "metadata": {},
   "outputs": [
    {
     "name": "stdout",
     "output_type": "stream",
     "text": [
      "Enter number of rows: 7\n",
      "1 \n",
      "3 3 \n",
      "5 5 5 \n",
      "7 7 7 7 \n",
      "9 9 9 9 9 \n",
      "11 11 11 11 11 11 \n",
      "13 13 13 13 13 13 13 \n"
     ]
    }
   ],
   "source": [
    "n = int(input(\"Enter number of rows: \"))\n",
    "k=1\n",
    "for i in range(1,n+1):\n",
    "    for j in range(1,i+1):\n",
    "        print(k,end=\" \")\n",
    "    k=k+2\n",
    "    print()"
   ]
  },
  {
   "cell_type": "markdown",
   "id": "a10ba1b3",
   "metadata": {},
   "source": [
    "# 4) Pattern 4:"
   ]
  },
  {
   "cell_type": "raw",
   "id": "db688d5a",
   "metadata": {},
   "source": [
    "1\n",
    "2 1 \n",
    "3 2 1 \n",
    "4 3 2 1\n",
    "5 4 3 2 1"
   ]
  },
  {
   "cell_type": "code",
   "execution_count": 9,
   "id": "cff636e9",
   "metadata": {},
   "outputs": [
    {
     "name": "stdout",
     "output_type": "stream",
     "text": [
      "Enter number of rows: 5\n",
      "1 \n",
      "2 1 \n",
      "3 2 1 \n",
      "4 3 2 1 \n",
      "5 4 3 2 1 \n"
     ]
    }
   ],
   "source": [
    "n = int(input(\"Enter number of rows: \"))\n",
    "for i in range(0, n ):\n",
    "    for j in range(i,-1,-1):\n",
    "        print(j+1,end=\" \")\n",
    "    print()"
   ]
  },
  {
   "cell_type": "markdown",
   "id": "980dbc55",
   "metadata": {},
   "source": [
    "# 5) Pattern 5:"
   ]
  },
  {
   "cell_type": "raw",
   "id": "6be71af7",
   "metadata": {},
   "source": [
    "1\n",
    "3 2\n",
    "6 5 4\n",
    "10 9 8 7"
   ]
  },
  {
   "cell_type": "code",
   "execution_count": 11,
   "id": "42c9d512",
   "metadata": {},
   "outputs": [
    {
     "name": "stdout",
     "output_type": "stream",
     "text": [
      "Enter number of rows: 5\n",
      "\n",
      "1 \n",
      "3 2 \n",
      "6 5 4 \n",
      "10 9 8 7 \n"
     ]
    }
   ],
   "source": [
    "n = int(input(\"Enter number of rows: \"))\n",
    "k=0\n",
    "for i in range(0,n):\n",
    "    for j in range(1,i+1):\n",
    "        print(k,end=\" \")\n",
    "        k-=1\n",
    "    k=k+(2*i)+1\n",
    "    print()"
   ]
  },
  {
   "cell_type": "markdown",
   "id": "7ec2f4b3",
   "metadata": {},
   "source": [
    "# 6) Pattern 6:"
   ]
  },
  {
   "cell_type": "raw",
   "id": "0db48083",
   "metadata": {},
   "source": [
    "1\n",
    "1 1\n",
    "1 2 1\n",
    "1 3 3 1\n",
    "1 4 6 4 1\n",
    "1 5 10 10 5 1\n",
    "1 6 15 20 15 6 1"
   ]
  },
  {
   "cell_type": "code",
   "execution_count": 12,
   "id": "210c6d56",
   "metadata": {},
   "outputs": [
    {
     "name": "stdout",
     "output_type": "stream",
     "text": [
      "Enter number of rows: 7\n",
      "  1\n",
      "  1  1\n",
      "  1  2  1\n",
      "  1  3  3  1\n",
      "  1  4  6  4  1\n",
      "  1  5 10 10  5  1\n",
      "  1  6 15 20 15  6  1\n"
     ]
    }
   ],
   "source": [
    "def fact(n):\n",
    "    f = 1\n",
    "    for i in range(1, n + 1):\n",
    "        f = f * i\n",
    "    return f\n",
    "\n",
    "n = int(input(\"Enter number of rows: \"))\n",
    "for i in range(0, n):\n",
    "    for k in range(0, i + 1): \n",
    "        coef=int(fact(i) / (fact(k) * fact(i - k))) \n",
    "        print(\"%3d\"%coef, end=\"\")\n",
    "    print()"
   ]
  },
  {
   "cell_type": "markdown",
   "id": "f9d27de2",
   "metadata": {},
   "source": [
    "# 7) Pattern 7:"
   ]
  },
  {
   "cell_type": "raw",
   "id": "c3eef840",
   "metadata": {},
   "source": [
    "1 2 3 4 5 \n",
    "2 2 3 4 5\n",
    "3 3 3 4 5\n",
    "4 4 4 4 5 \n",
    "5 5 5 5 5"
   ]
  },
  {
   "cell_type": "code",
   "execution_count": 13,
   "id": "6b97aebb",
   "metadata": {},
   "outputs": [
    {
     "name": "stdout",
     "output_type": "stream",
     "text": [
      "Enter number of rows: 5\n",
      "1 2 3 4 5 \n",
      "2 2 3 4 5 \n",
      "3 3 3 4 5 \n",
      "4 4 4 4 5 \n",
      "5 5 5 5 5 \n"
     ]
    }
   ],
   "source": [
    "n = int(input(\"Enter number of rows: \"))\n",
    "for i in range(1, n+1 ):\n",
    "    for j in range(1,n+1):\n",
    "        if(j>i):\n",
    "            print(j,end=\" \")\n",
    "        if(j<=i):\n",
    "            print(i,end=\" \")\n",
    "    print()"
   ]
  },
  {
   "cell_type": "markdown",
   "id": "f4fc300e",
   "metadata": {},
   "source": [
    "# 8) Pattern 8:"
   ]
  },
  {
   "cell_type": "raw",
   "id": "f7706eba",
   "metadata": {},
   "source": [
    "1\n",
    "2  4 \n",
    "3  6  9 \n",
    "4  8  12  16\n",
    "5  10  15  20  25\n",
    "6  12  18  24  30  36\n",
    "7  14  21  28  35  42  49\n",
    "8  16  24  32  40  48  56  64"
   ]
  },
  {
   "cell_type": "code",
   "execution_count": 14,
   "id": "efe4e975",
   "metadata": {},
   "outputs": [
    {
     "name": "stdout",
     "output_type": "stream",
     "text": [
      "Enter number of rows: 8\n",
      "1 \n",
      "2 4 \n",
      "3 6 9 \n",
      "4 8 12 16 \n",
      "5 10 15 20 25 \n",
      "6 12 18 24 30 36 \n",
      "7 14 21 28 35 42 49 \n",
      "8 16 24 32 40 48 56 64 \n"
     ]
    }
   ],
   "source": [
    "n=int(input(\"Enter number of rows: \"))\n",
    "for i in range(1,n+1):\n",
    "    for j in range(1,i+1):\n",
    "        print(i*j,end=\" \")\n",
    "        \n",
    "    print()"
   ]
  },
  {
   "cell_type": "markdown",
   "id": "e9593976",
   "metadata": {},
   "source": [
    "# 9) Pattern 9:"
   ]
  },
  {
   "cell_type": "raw",
   "id": "05dff975",
   "metadata": {},
   "source": [
    "* * * * * *\n",
    " * * * * *\n",
    "  * * * *\n",
    "   * * *\n",
    "    * *\n",
    "     *"
   ]
  },
  {
   "cell_type": "code",
   "execution_count": 19,
   "id": "be7c0d72",
   "metadata": {},
   "outputs": [
    {
     "name": "stdout",
     "output_type": "stream",
     "text": [
      "Enter number of rows: 7\n",
      "          *   *   *   *   *   *   \n",
      "            *   *   *   *   *   \n",
      "              *   *   *   *   \n",
      "                *   *   *   \n",
      "                  *   *   \n",
      "                    *   \n",
      "                      \n"
     ]
    }
   ],
   "source": [
    "n=int(input(\"Enter number of rows: \"))\n",
    "space=n\n",
    "for i in range(1,n+1):\n",
    "    for j in range(1,space-1):\n",
    "        print(\" \",end=\" \")\n",
    "    for j in range(1,(n+1)-i):\n",
    "        print(\"*\",end=\"   \")\n",
    "    space+=1\n",
    "    print()"
   ]
  },
  {
   "cell_type": "markdown",
   "id": "61f4a900",
   "metadata": {},
   "source": [
    "# 10) Pattern 10:"
   ]
  },
  {
   "cell_type": "raw",
   "id": "ef22a0d7",
   "metadata": {},
   "source": [
    "      *\n",
    "     * *\n",
    "    * * *\n",
    "   * * * *\n",
    "  * * * * *\n",
    " * * * * * *\n",
    "* * * * * * *"
   ]
  },
  {
   "cell_type": "code",
   "execution_count": 20,
   "id": "53e48b79",
   "metadata": {},
   "outputs": [
    {
     "name": "stdout",
     "output_type": "stream",
     "text": [
      "Enter number of rows: 7\n",
      "            *   \n",
      "          *   *   \n",
      "        *   *   *   \n",
      "      *   *   *   *   \n",
      "    *   *   *   *   *   \n",
      "  *   *   *   *   *   *   \n",
      "*   *   *   *   *   *   *   \n"
     ]
    }
   ],
   "source": [
    "n=int(input(\"Enter number of rows: \"))\n",
    "space=n\n",
    "for i in range(1,n+1):\n",
    "    for j in range(1,space):\n",
    "        print(\" \",end=\" \")\n",
    "    for j in range(1,i+1):\n",
    "        print(\"*\",end=\"   \")\n",
    "    space-=1\n",
    "    print()"
   ]
  },
  {
   "cell_type": "markdown",
   "id": "c07c63e9",
   "metadata": {},
   "source": [
    "# 11) Pattern 11:"
   ]
  },
  {
   "cell_type": "raw",
   "id": "6f07500d",
   "metadata": {},
   "source": [
    "*\n",
    "* *\n",
    "* * *\n",
    "* * * *\n",
    "* * * * *\n",
    "* * * * * *\n",
    "\n",
    "* * * * * *\n",
    "* * * * *\n",
    "* * * *\n",
    "* * *\n",
    "* *\n",
    "*"
   ]
  },
  {
   "cell_type": "code",
   "execution_count": 21,
   "id": "665dbd27",
   "metadata": {},
   "outputs": [
    {
     "name": "stdout",
     "output_type": "stream",
     "text": [
      "Enter number of rows: 6\n",
      "* \n",
      "* * \n",
      "* * * \n",
      "* * * * \n",
      "* * * * * \n",
      "* * * * * * \n",
      "\n",
      "* * * * * * \n",
      "* * * * * \n",
      "* * * * \n",
      "* * * \n",
      "* * \n",
      "* \n",
      "\n"
     ]
    }
   ],
   "source": [
    "n=int(input(\"Enter number of rows: \"))\n",
    "# first pattern\n",
    "for i in range(1,n+1):\n",
    "    for j in range(1,i+1):\n",
    "        print(\"*\",end=\" \")\n",
    "    print()\n",
    "    \n",
    "print()   \n",
    "# second pattern\n",
    "for i in range(n+1,0,-1):\n",
    "    for j in range(0,i-1):\n",
    "        print(\"*\",end=\" \")\n",
    "    print()"
   ]
  },
  {
   "cell_type": "markdown",
   "id": "a9c1b0d1",
   "metadata": {},
   "source": [
    "# 12) Patter 12:"
   ]
  },
  {
   "cell_type": "raw",
   "id": "b7c08d9b",
   "metadata": {},
   "source": [
    "* \n",
    "* * \n",
    "* * *\n",
    "* * * *\n",
    "* * * * *\n",
    "* * * *\n",
    "* * *\n",
    "* *\n",
    "*"
   ]
  },
  {
   "cell_type": "code",
   "execution_count": 22,
   "id": "bb277036",
   "metadata": {},
   "outputs": [
    {
     "name": "stdout",
     "output_type": "stream",
     "text": [
      "Enter number of rows: 6\n",
      "* \n",
      "* * \n",
      "* * * \n",
      "* * * * \n",
      "* * * * * \n",
      "* * * * * * \n",
      "* * * * * \n",
      "* * * * \n",
      "* * * \n",
      "* * \n",
      "* \n",
      "\n"
     ]
    }
   ],
   "source": [
    "n=int(input(\"Enter number of rows: \"))\n",
    "# first pattern\n",
    "for i in range(1,n+1):\n",
    "    for j in range(1,i+1):\n",
    "        print(\"*\",end=\" \")\n",
    "    print()\n",
    "    \n",
    "# second pattern\n",
    "for i in range(n,0,-1):\n",
    "    for j in range(0,i-1):\n",
    "        print(\"*\",end=\" \")\n",
    "    print()"
   ]
  },
  {
   "cell_type": "markdown",
   "id": "4ec3039f",
   "metadata": {},
   "source": [
    "# 13) Pattern 13:"
   ]
  },
  {
   "cell_type": "raw",
   "id": "7b8cf323",
   "metadata": {},
   "source": [
    "        * \n",
    "      * *\n",
    "    * * *\n",
    "  * * * *\n",
    "* * * * *\n",
    "  * * * *\n",
    "    * * *\n",
    "      * *\n",
    "        *"
   ]
  },
  {
   "cell_type": "code",
   "execution_count": 24,
   "id": "b5e6df87",
   "metadata": {},
   "outputs": [
    {
     "name": "stdout",
     "output_type": "stream",
     "text": [
      "Enter number of rows: 5\n",
      "        * \n",
      "      * * \n",
      "    * * * \n",
      "  * * * * \n",
      "* * * * * \n",
      "  * * * * \n",
      "    * * * \n",
      "      * * \n",
      "        * \n"
     ]
    }
   ],
   "source": [
    "n=int(input(\"Enter number of rows: \"))\n",
    "k=2*n-2\n",
    "#first pattern\n",
    "for i in range(0,n-1):\n",
    "    for _ in range(0,k):\n",
    "        print(end=\" \")\n",
    "    k=k-2\n",
    "    for j in range(0,i+1):\n",
    "        print(\"*\",end=\" \")\n",
    "    print()\n",
    "k=-1\n",
    "    \n",
    "#second pattern\n",
    "for i in range(n-1,-1,-1):\n",
    "    for _ in range(k,-1,-1):\n",
    "        print(end=\" \")\n",
    "    k=k+2\n",
    "    for j in range(0,i+1):\n",
    "        print(\"*\",end=\" \")\n",
    "    print()"
   ]
  },
  {
   "cell_type": "markdown",
   "id": "5620f641",
   "metadata": {},
   "source": [
    "# 14) Pattern 14:"
   ]
  },
  {
   "cell_type": "raw",
   "id": "75cddd5f",
   "metadata": {},
   "source": [
    "* * * * *\n",
    " * * * *\n",
    "  * * *\n",
    "   * *\n",
    "    *\n",
    "    *\n",
    "   * *\n",
    "  * * *\n",
    " * * * *\n",
    "* * * * *"
   ]
  },
  {
   "cell_type": "code",
   "execution_count": 27,
   "id": "30ee0fa3",
   "metadata": {},
   "outputs": [
    {
     "name": "stdout",
     "output_type": "stream",
     "text": [
      "Enter number of rows: 4\n",
      "  * * * * * \n",
      "   * * * * \n",
      "    * * * \n",
      "     * * \n",
      "      * \n",
      "      * \n",
      "     * * \n",
      "    * * * \n",
      "   * * * * \n",
      "  * * * * * \n"
     ]
    }
   ],
   "source": [
    "n=int(input(\"Enter number of rows: \"))\n",
    "k = n - 2\n",
    "for i in range(n, -1 , -1):\n",
    "    for j in range(k , 0 , -1):\n",
    "        print(end=\" \")\n",
    "    k = k + 1    \n",
    "    for j in range(0, i+1):\n",
    "        print(\"* \" , end=\"\")\n",
    "    print()\n",
    "k = 2 * n  - 2\n",
    "for i in range(0 , n+1):\n",
    "    for j in range(0 , k):\n",
    "        print(end=\" \")\n",
    "    k = k - 1\n",
    "    for j in range(0, i + 1):\n",
    "        print(\"* \", end=\"\")\n",
    "    print()"
   ]
  },
  {
   "cell_type": "markdown",
   "id": "3548aa7f",
   "metadata": {},
   "source": [
    "# 15) Pattern 15:"
   ]
  },
  {
   "cell_type": "raw",
   "id": "1d40f043",
   "metadata": {},
   "source": [
    "****************\n",
    "*******__*******\n",
    "******____******\n",
    "*****______*****\n",
    "****________****\n",
    "***__________***\n",
    "**____________**\n",
    "*______________*"
   ]
  },
  {
   "cell_type": "code",
   "execution_count": 29,
   "id": "ea423a98",
   "metadata": {},
   "outputs": [
    {
     "name": "stdout",
     "output_type": "stream",
     "text": [
      "Enter number of rows: 16\n",
      "****************\n",
      "*******__*******\n",
      "******____******\n",
      "*****______*****\n",
      "****________****\n",
      "***__________***\n",
      "**____________**\n",
      "*______________*\n"
     ]
    }
   ],
   "source": [
    "n=int(input(\"Enter number of rows: \"))\n",
    "print(\"*\" * n,end=\"\\n\")\n",
    "i=(n//2) -1\n",
    "j=2\n",
    "while i!=0:\n",
    "    while j<=(n-2):\n",
    "        print(\"*\" * i,end=\"\")\n",
    "        print(\"_\" * j,end=\"\")\n",
    "        print(\"*\" * i,end=\"\\n\")\n",
    "        i=i-1\n",
    "        j=j+2"
   ]
  },
  {
   "cell_type": "code",
   "execution_count": null,
   "id": "99b3b55b",
   "metadata": {},
   "outputs": [],
   "source": []
  }
 ],
 "metadata": {
  "kernelspec": {
   "display_name": "Python 3",
   "language": "python",
   "name": "python3"
  },
  "language_info": {
   "codemirror_mode": {
    "name": "ipython",
    "version": 3
   },
   "file_extension": ".py",
   "mimetype": "text/x-python",
   "name": "python",
   "nbconvert_exporter": "python",
   "pygments_lexer": "ipython3",
   "version": "3.8.8"
  }
 },
 "nbformat": 4,
 "nbformat_minor": 5
}
