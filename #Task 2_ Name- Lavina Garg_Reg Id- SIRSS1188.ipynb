{
 "cells": [
  {
   "cell_type": "markdown",
   "id": "25c642f0",
   "metadata": {},
   "source": [
    "# 1. Write a lambda expression to extract first word of a string."
   ]
  },
  {
   "cell_type": "code",
   "execution_count": 9,
   "id": "060ca368",
   "metadata": {},
   "outputs": [
    {
     "data": {
      "text/plain": [
       "'How'"
      ]
     },
     "execution_count": 9,
     "metadata": {},
     "output_type": "execute_result"
    }
   ],
   "source": [
    "a = lambda s: s.split()[0]\n",
    "a('How are you?')"
   ]
  },
  {
   "cell_type": "markdown",
   "id": "57bfa497",
   "metadata": {},
   "source": [
    "# 2. Write a function to extract first word of s string(with many words separated by space)."
   ]
  },
  {
   "cell_type": "code",
   "execution_count": 10,
   "id": "c0da93f6",
   "metadata": {},
   "outputs": [],
   "source": [
    "def first_word(s):\n",
    "    return s.split()[0]"
   ]
  },
  {
   "cell_type": "code",
   "execution_count": 8,
   "id": "3e7017ab",
   "metadata": {},
   "outputs": [
    {
     "data": {
      "text/plain": [
       "'How'"
      ]
     },
     "execution_count": 8,
     "metadata": {},
     "output_type": "execute_result"
    }
   ],
   "source": [
    "first_word('How is your day going?')"
   ]
  },
  {
   "cell_type": "markdown",
   "id": "7c5eac17",
   "metadata": {},
   "source": [
    "# 3. Extract the first word from every string from a list of strings by using map function."
   ]
  },
  {
   "cell_type": "code",
   "execution_count": 11,
   "id": "6b24ac9c",
   "metadata": {},
   "outputs": [],
   "source": [
    "l = ['i have work','nice to meet you','we are going']"
   ]
  },
  {
   "cell_type": "code",
   "execution_count": 12,
   "id": "268e31ca",
   "metadata": {},
   "outputs": [
    {
     "data": {
      "text/plain": [
       "['i', 'nice', 'we']"
      ]
     },
     "execution_count": 12,
     "metadata": {},
     "output_type": "execute_result"
    }
   ],
   "source": [
    "list(map(lambda s: s.split()[0],l))"
   ]
  },
  {
   "cell_type": "markdown",
   "id": "b57ed32a",
   "metadata": {},
   "source": [
    "# 4. Write a function to return a list of prime factors of a given number."
   ]
  },
  {
   "cell_type": "code",
   "execution_count": 13,
   "id": "7b4c1074",
   "metadata": {},
   "outputs": [
    {
     "name": "stdout",
     "output_type": "stream",
     "text": [
      "49\n",
      "7 7 "
     ]
    }
   ],
   "source": [
    "import math\n",
    "def primeFactors(n):\n",
    "    while n % 2 == 0:\n",
    "        print (2,end=\" \"),\n",
    "        n = n/2\n",
    "    for i in range(3,int(math.sqrt(n))+1,2):\n",
    "        while n % i== 0:\n",
    "            print (i,end=\" \"),\n",
    "            n = n / i\n",
    "    if n > 2:\n",
    "        print (n,end =\" \")\n",
    "        \n",
    "n = int(input())\n",
    "primeFactors(n)"
   ]
  },
  {
   "cell_type": "markdown",
   "id": "18afc96a",
   "metadata": {},
   "source": [
    "# 5. Write a function that finds 2nd largest among 4 numbers(Repetitions are allowed,without sorting)."
   ]
  },
  {
   "cell_type": "code",
   "execution_count": 14,
   "id": "d12a91de",
   "metadata": {},
   "outputs": [
    {
     "name": "stdout",
     "output_type": "stream",
     "text": [
      "number of elements:4\n",
      "56\n",
      "24\n",
      "78\n",
      "13\n",
      "Second max : 56\n"
     ]
    }
   ],
   "source": [
    "list = []\n",
    "n = int(input(\"number of elements:\"))\n",
    "for i in range(1, n+1):\n",
    "    m = int(input())\n",
    "    list.append(m)\n",
    "    \n",
    "list1 = set(list)\n",
    "list1.remove(max(list1))\n",
    "print(\"Second max :\",max(list1))"
   ]
  },
  {
   "cell_type": "code",
   "execution_count": null,
   "id": "cd339e1e",
   "metadata": {},
   "outputs": [],
   "source": []
  }
 ],
 "metadata": {
  "kernelspec": {
   "display_name": "Python 3",
   "language": "python",
   "name": "python3"
  },
  "language_info": {
   "codemirror_mode": {
    "name": "ipython",
    "version": 3
   },
   "file_extension": ".py",
   "mimetype": "text/x-python",
   "name": "python",
   "nbconvert_exporter": "python",
   "pygments_lexer": "ipython3",
   "version": "3.8.8"
  }
 },
 "nbformat": 4,
 "nbformat_minor": 5
}
